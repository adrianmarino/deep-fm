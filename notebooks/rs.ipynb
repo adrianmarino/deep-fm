{
 "cells": [
  {
   "cell_type": "code",
   "execution_count": 1,
   "id": "d2f24257-3bd5-490f-949a-54c0fb32f862",
   "metadata": {},
   "outputs": [],
   "source": [
    "import sys\n",
    "sys.path.append('../src')\n",
    "\n",
    "import warnings\n",
    "warnings.filterwarnings(\"ignore\")\n",
    "\n",
    "import logging\n",
    "from bunch import Bunch\n",
    "from torch.utils.data import DataLoader\n",
    "\n",
    "\n",
    "from callbacks.output import Logger\n",
    "from callbacks.early_stop_callback import EarlyStop\n",
    "from callbacks.reduce_lr_on_plateau import ReduceLROnPlateau\n",
    "from callbacks.validation import Validation\n",
    "\n",
    "from dataset.movielens import MovieLens1MDataset, MovieLens20MDataset\n",
    "\n",
    "from logger import initialize_logger\n",
    "from modules import DeepFM\n",
    "\n",
    "from util.data_utils import train_val_split\n",
    "from util.device_utils import set_device_name, set_device_memory, get_device\n",
    "\n",
    "from sklearn.metrics import roc_auc_score\n",
    "\n",
    "from torch.nn import BCELoss\n",
    "from torch.optim import Adam"
   ]
  },
  {
   "cell_type": "code",
   "execution_count": 2,
   "id": "49dd99cd-29cd-4f77-9911-86b41f734ca9",
   "metadata": {},
   "outputs": [],
   "source": [
    "initialize_logger()\n",
    "set_device_name('gpu')\n",
    "device = get_device()"
   ]
  },
  {
   "cell_type": "code",
   "execution_count": 3,
   "id": "d9b57663-d2d6-4ff6-92e1-71fdfb9d5834",
   "metadata": {},
   "outputs": [],
   "source": [
    "def load_dataset(name):\n",
    "    if '1m' == name:\n",
    "        dataset_path = '../datasets/ml-1m/ratings.dat'\n",
    "        dataset = MovieLens1MDataset(dataset_path=dataset_path)\n",
    "    else:\n",
    "        dataset_path = '../datasets/ml-20m/ratings.csv'\n",
    "        dataset = MovieLens20MDataset(dataset_path=dataset_path)\n",
    "\n",
    "    logging.info('{} dataset loaded! Shape: {}'.format(dataset_path, dataset.shape))\n",
    "    logging.info('Target count: {}'.format(dataset.targets_count()))\n",
    "\n",
    "    return dataset"
   ]
  },
  {
   "cell_type": "code",
   "execution_count": 4,
   "id": "2fc5655d-f5ae-4f30-bd1c-b8183571d0e9",
   "metadata": {},
   "outputs": [
    {
     "name": "stderr",
     "output_type": "stream",
     "text": [
      "2022-01-08 11:07:54,237 MainProcess root INFO ../datasets/ml-1m/ratings.dat dataset loaded! Shape: (1000209, 2)\n",
      "2022-01-08 11:07:54,254 MainProcess root INFO Target count: {0.0: 424928, 1.0: 575281}\n"
     ]
    }
   ],
   "source": [
    "dataset = load_dataset('1m')"
   ]
  },
  {
   "cell_type": "code",
   "execution_count": 5,
   "id": "1bf07b8a-39f7-4ddf-888b-0e77b52a634b",
   "metadata": {},
   "outputs": [],
   "source": [
    "ps = Bunch({\n",
    "        'lr': 0.001,\n",
    "        'lr_factor': 0.1,\n",
    "        'lr_patience': 1,\n",
    "        'weight_decay': 1e-6,\n",
    "        'epochs': 50,\n",
    "        'embedding_size': 100,\n",
    "        'units_per_layer': [300, 300],\n",
    "        'dropout': 0.8,\n",
    "        'batch_size': 4000,\n",
    "        'train_percent': 0.7,\n",
    "        'num_workers': 12,\n",
    "        'features_n_values': dataset.field_dims,\n",
    "        'dataset': dataset,\n",
    "        'device': get_device()\n",
    "    })"
   ]
  },
  {
   "cell_type": "code",
   "execution_count": 6,
   "id": "bb7a542d-c4aa-478c-a0d6-40ca6db3992f",
   "metadata": {},
   "outputs": [],
   "source": [
    "train_set, val_set = train_val_split(ps.dataset, ps.train_percent)\n",
    "\n",
    "model = DeepFM(\n",
    "    ps.features_n_values,\n",
    "    ps.embedding_size,\n",
    "    ps.units_per_layer,\n",
    "    ps.dropout\n",
    ").to(ps.device)"
   ]
  },
  {
   "cell_type": "code",
   "execution_count": 7,
   "id": "e713fc36-724a-4145-90c2-18975de62213",
   "metadata": {},
   "outputs": [
    {
     "name": "stderr",
     "output_type": "stream",
     "text": [
      "2022-01-08 11:08:00,618 MainProcess root INFO Start training...\n",
      "2022-01-08 11:08:11,392 MainProcess root INFO {'time': '0:00:05.15', 'epoch': 2, 'train_loss': 96.66918170452118, 'val_loss': 0.539854884147644, 'val_auc': 0.7918233424638522, 'patience': 0, 'lr': 0.001}\n",
      "2022-01-08 11:08:16,911 MainProcess root INFO {'time': '0:00:05.46', 'epoch': 3, 'train_loss': 94.94861769676208, 'val_loss': 0.5367813110351562, 'val_auc': 0.7940973364903636, 'patience': 0, 'lr': 0.001}\n",
      "2022-01-08 11:08:22,475 MainProcess root INFO {'time': '0:00:05.51', 'epoch': 4, 'train_loss': 93.97449707984924, 'val_loss': 0.5357990264892578, 'val_auc': 0.7951330838029054, 'patience': 0, 'lr': 0.001}\n",
      "2022-01-08 11:08:27,821 MainProcess root INFO {'time': '0:00:05.29', 'epoch': 5, 'train_loss': 93.33862218260765, 'val_loss': 0.5352303981781006, 'val_auc': 0.7957603132822509, 'patience': 0, 'lr': 0.001}\n",
      "2022-01-08 11:08:33,180 MainProcess root INFO {'time': '0:00:05.30', 'epoch': 6, 'train_loss': 92.76799929141998, 'val_loss': 0.5341157913208008, 'val_auc': 0.7968216125044568, 'patience': 0, 'lr': 0.001}\n",
      "2022-01-08 11:08:38,490 MainProcess root INFO {'time': '0:00:05.25', 'epoch': 7, 'train_loss': 92.26623630523682, 'val_loss': 0.532508909702301, 'val_auc': 0.7987407743599182, 'patience': 0, 'lr': 0.001}\n",
      "2022-01-08 11:08:43,743 MainProcess root INFO {'time': '0:00:05.20', 'epoch': 8, 'train_loss': 91.64550361037254, 'val_loss': 0.5307810306549072, 'val_auc': 0.8007957821123985, 'patience': 0, 'lr': 0.001}\n",
      "2022-01-08 11:08:48,964 MainProcess root INFO {'time': '0:00:05.17', 'epoch': 9, 'train_loss': 90.95834311842918, 'val_loss': 0.5293706655502319, 'val_auc': 0.8022372056886677, 'patience': 0, 'lr': 0.001}\n",
      "2022-01-08 11:08:54,318 MainProcess root INFO {'time': '0:00:05.30', 'epoch': 10, 'train_loss': 90.30258223414421, 'val_loss': 0.5288357734680176, 'val_auc': 0.8029020370858457, 'patience': 0, 'lr': 0.001}\n",
      "2022-01-08 11:08:59,635 MainProcess root INFO {'time': '0:00:05.26', 'epoch': 11, 'train_loss': 89.7171576321125, 'val_loss': 0.5296607613563538, 'val_auc': 0.8029714510888459, 'patience': 0, 'lr': 0.001}\n",
      "2022-01-08 11:09:04,963 MainProcess root INFO {'time': '0:00:05.27', 'epoch': 12, 'train_loss': 89.27540177106857, 'val_loss': 0.5297479629516602, 'val_auc': 0.8030523487623509, 'patience': 0, 'lr': 0.001}\n",
      "2022-01-08 11:09:10,322 MainProcess root INFO {'time': '0:00:05.30', 'epoch': 13, 'train_loss': 88.77539302408695, 'val_loss': 0.5296676158905029, 'val_auc': 0.8035903643407359, 'patience': 0, 'lr': 0.001}\n",
      "2022-01-08 11:09:15,931 MainProcess root INFO {'time': '0:00:05.55', 'epoch': 14, 'train_loss': 88.40344670414925, 'val_loss': 0.5302755832672119, 'val_auc': 0.8035863036188233, 'patience': 0, 'lr': 0.001}\n",
      "2022-01-08 11:09:21,444 MainProcess root INFO {'time': '0:00:05.46', 'epoch': 15, 'train_loss': 87.92339292168617, 'val_loss': 0.5305331349372864, 'val_auc': 0.8034113009422259, 'patience': 1, 'lr': 0.001}\n",
      "2022-01-08 11:09:27,040 MainProcess root INFO {'time': '0:00:05.54', 'epoch': 16, 'train_loss': 85.87581281363964, 'val_loss': 0.5318861603736877, 'val_auc': 0.8038484816124892, 'patience': 2, 'lr': 0.0001}\n",
      "2022-01-08 11:09:32,428 MainProcess root INFO {'time': '0:00:05.33', 'epoch': 17, 'train_loss': 85.50450186431408, 'val_loss': 0.5321860313415527, 'val_auc': 0.8040655814950853, 'patience': 0, 'lr': 0.0001}\n",
      "2022-01-08 11:09:37,734 MainProcess root INFO {'time': '0:00:05.25', 'epoch': 18, 'train_loss': 85.21696974337101, 'val_loss': 0.5320819616317749, 'val_auc': 0.8042147916843599, 'patience': 0, 'lr': 0.0001}\n",
      "2022-01-08 11:09:43,041 MainProcess root INFO {'time': '0:00:05.25', 'epoch': 19, 'train_loss': 85.02806995809078, 'val_loss': 0.5320504307746887, 'val_auc': 0.8041452519295027, 'patience': 0, 'lr': 0.0001}\n",
      "2022-01-08 11:09:48,396 MainProcess root INFO {'time': '0:00:05.30', 'epoch': 20, 'train_loss': 84.86724019050598, 'val_loss': 0.5321931838989258, 'val_auc': 0.8041196752601703, 'patience': 1, 'lr': 0.0001}\n",
      "2022-01-08 11:09:53,870 MainProcess root INFO {'time': '0:00:05.42', 'epoch': 21, 'train_loss': 84.52558948099613, 'val_loss': 0.5321937203407288, 'val_auc': 0.804142780437573, 'patience': 2, 'lr': 1e-05}\n",
      "2022-01-08 11:09:59,389 MainProcess root INFO {'time': '0:00:05.46', 'epoch': 22, 'train_loss': 84.48908931016922, 'val_loss': 0.5321334004402161, 'val_auc': 0.8041555964962533, 'patience': 0, 'lr': 1e-05}\n",
      "2022-01-08 11:10:04,819 MainProcess root INFO {'time': '0:00:05.37', 'epoch': 23, 'train_loss': 84.42087823152542, 'val_loss': 0.5321711301803589, 'val_auc': 0.804161192158601, 'patience': 0, 'lr': 1.0000000000000002e-06}\n",
      "2022-01-08 11:10:10,297 MainProcess root INFO {'time': '0:00:05.42', 'epoch': 24, 'train_loss': 84.39095261693001, 'val_loss': 0.5322946906089783, 'val_auc': 0.8041548042095792, 'patience': 0, 'lr': 1.0000000000000002e-06}\n",
      "2022-01-08 11:10:15,708 MainProcess root INFO {'time': '0:00:05.35', 'epoch': 25, 'train_loss': 84.41605581343174, 'val_loss': 0.5323681831359863, 'val_auc': 0.8041473988426229, 'patience': 1, 'lr': 1.0000000000000002e-07}\n",
      "2022-01-08 11:10:21,072 MainProcess root INFO {'time': '0:00:05.31', 'epoch': 26, 'train_loss': 84.38600969314575, 'val_loss': 0.5321380496025085, 'val_auc': 0.8041578188014282, 'patience': 2, 'lr': 1.0000000000000002e-07}\n",
      "2022-01-08 11:10:26,467 MainProcess root INFO {'time': '0:00:05.34', 'epoch': 27, 'train_loss': 84.36342190206051, 'val_loss': 0.5324109792709351, 'val_auc': 0.8041489240836281, 'patience': 0, 'lr': 1.0000000000000004e-08}\n",
      "2022-01-08 11:10:31,758 MainProcess root INFO {'time': '0:00:05.24', 'epoch': 28, 'train_loss': 84.4024173617363, 'val_loss': 0.5324324369430542, 'val_auc': 0.8041469414475005, 'patience': 1, 'lr': 1.0000000000000004e-08}\n",
      "2022-01-08 11:10:37,067 MainProcess root INFO {'time': '0:00:05.25', 'epoch': 29, 'train_loss': 84.3921962082386, 'val_loss': 0.5323103070259094, 'val_auc': 0.8041536176762949, 'patience': 2, 'lr': 1.0000000000000004e-08}\n",
      "2022-01-08 11:10:42,441 MainProcess root INFO {'time': '0:00:05.32', 'epoch': 30, 'train_loss': 84.37992054224014, 'val_loss': 0.5320627689361572, 'val_auc': 0.8041602211480084, 'patience': 0, 'lr': 1.0000000000000004e-08}\n",
      "2022-01-08 11:10:47,776 MainProcess root INFO {'time': '0:00:05.28', 'epoch': 31, 'train_loss': 84.42892609536648, 'val_loss': 0.5321197509765625, 'val_auc': 0.8041583820725271, 'patience': 0, 'lr': 1.0000000000000004e-08}\n",
      "2022-01-08 11:10:53,130 MainProcess root INFO {'time': '0:00:05.30', 'epoch': 32, 'train_loss': 84.41019806265831, 'val_loss': 0.5322059988975525, 'val_auc': 0.8041451138432417, 'patience': 1, 'lr': 1.0000000000000004e-08}\n",
      "2022-01-08 11:10:58,471 MainProcess root INFO {'time': '0:00:05.29', 'epoch': 33, 'train_loss': 84.36204074323177, 'val_loss': 0.5319700837135315, 'val_auc': 0.804148485133323, 'patience': 2, 'lr': 1.0000000000000004e-08}\n",
      "2022-01-08 11:11:03,994 MainProcess root INFO {'time': '0:00:05.46', 'epoch': 34, 'train_loss': 84.39663554728031, 'val_loss': 0.5322842001914978, 'val_auc': 0.80414424087185, 'patience': 0, 'lr': 1.0000000000000004e-08}\n",
      "2022-01-08 11:11:09,605 MainProcess root INFO {'time': '0:00:05.55', 'epoch': 35, 'train_loss': 84.32972069084644, 'val_loss': 0.5322778820991516, 'val_auc': 0.8041519530769724, 'patience': 1, 'lr': 1.0000000000000004e-08}\n",
      "2022-01-08 11:11:15,244 MainProcess root INFO {'time': '0:00:05.58', 'epoch': 36, 'train_loss': 84.32427805662155, 'val_loss': 0.5323770046234131, 'val_auc': 0.804150157455845, 'patience': 0, 'lr': 1.0000000000000004e-08}\n",
      "2022-01-08 11:11:20,909 MainProcess root INFO {'time': '0:00:05.61', 'epoch': 37, 'train_loss': 84.4361243546009, 'val_loss': 0.5324884057044983, 'val_auc': 0.804147172189438, 'patience': 1, 'lr': 1.0000000000000004e-08}\n",
      "2022-01-08 11:11:26,521 MainProcess root INFO {'time': '0:00:05.55', 'epoch': 38, 'train_loss': 84.42238199710846, 'val_loss': 0.5323191285133362, 'val_auc': 0.804154231988655, 'patience': 2, 'lr': 1.0000000000000004e-08}\n",
      "2022-01-08 11:11:32,259 MainProcess root INFO {'time': '0:00:05.68', 'epoch': 39, 'train_loss': 84.36474798619747, 'val_loss': 0.5323531031608582, 'val_auc': 0.8041496300976227, 'patience': 0, 'lr': 1.0000000000000004e-08}\n",
      "2022-01-08 11:11:37,936 MainProcess root INFO {'time': '0:00:05.62', 'epoch': 40, 'train_loss': 84.3620498329401, 'val_loss': 0.532423734664917, 'val_auc': 0.8041538975059785, 'patience': 1, 'lr': 1.0000000000000004e-08}\n",
      "2022-01-08 11:11:43,637 MainProcess root INFO {'time': '0:00:05.64', 'epoch': 41, 'train_loss': 84.38573974370956, 'val_loss': 0.5324496626853943, 'val_auc': 0.8041428626669307, 'patience': 0, 'lr': 1.0000000000000004e-08}\n",
      "2022-01-08 11:11:49,427 MainProcess root INFO {'time': '0:00:05.73', 'epoch': 42, 'train_loss': 84.43327444791794, 'val_loss': 0.5321756601333618, 'val_auc': 0.8041465060862116, 'patience': 1, 'lr': 1.0000000000000004e-08}\n",
      "2022-01-08 11:11:55,102 MainProcess root INFO {'time': '0:00:05.62', 'epoch': 43, 'train_loss': 84.48117315769196, 'val_loss': 0.5322175621986389, 'val_auc': 0.8041594522126546, 'patience': 0, 'lr': 1.0000000000000004e-08}\n",
      "2022-01-08 11:12:00,631 MainProcess root INFO {'time': '0:00:05.47', 'epoch': 44, 'train_loss': 84.3603303283453, 'val_loss': 0.5321177244186401, 'val_auc': 0.8041581626200899, 'patience': 0, 'lr': 1.0000000000000004e-08}\n",
      "2022-01-08 11:12:06,071 MainProcess root INFO {'time': '0:00:05.38', 'epoch': 45, 'train_loss': 84.40056817233562, 'val_loss': 0.5321534276008606, 'val_auc': 0.8041486128386954, 'patience': 1, 'lr': 1.0000000000000004e-08}\n",
      "2022-01-08 11:12:11,614 MainProcess root INFO {'time': '0:00:05.49', 'epoch': 46, 'train_loss': 84.36643968522549, 'val_loss': 0.5323207378387451, 'val_auc': 0.8041527568121537, 'patience': 2, 'lr': 1.0000000000000004e-08}\n",
      "2022-01-08 11:12:17,327 MainProcess root INFO {'time': '0:00:05.65', 'epoch': 47, 'train_loss': 84.40564098954201, 'val_loss': 0.532368540763855, 'val_auc': 0.8041461941598201, 'patience': 0, 'lr': 1.0000000000000004e-08}\n",
      "2022-01-08 11:12:23,486 MainProcess root INFO {'time': '0:00:06.10', 'epoch': 48, 'train_loss': 84.41492934525013, 'val_loss': 0.5322325825691223, 'val_auc': 0.8041611734639156, 'patience': 1, 'lr': 1.0000000000000004e-08}\n",
      "2022-01-08 11:12:29,305 MainProcess root INFO {'time': '0:00:05.76', 'epoch': 49, 'train_loss': 84.4239257723093, 'val_loss': 0.5322387218475342, 'val_auc': 0.8041588190238864, 'patience': 0, 'lr': 1.0000000000000004e-08}\n",
      "2022-01-08 11:12:35,182 MainProcess root INFO {'time': '0:00:05.82', 'epoch': 50, 'train_loss': 84.43809069693089, 'val_loss': 0.5323466062545776, 'val_auc': 0.8041467123637793, 'patience': 1, 'lr': 1.0000000000000004e-08}\n"
     ]
    }
   ],
   "source": [
    "logging.info('Start training...')\n",
    "model.fit(\n",
    "    data_loader = DataLoader(train_set, ps.batch_size, num_workers=ps.num_workers),\n",
    "    loss_fn     = BCELoss(),\n",
    "    epochs      = ps.epochs,\n",
    "    optimizer   = Adam(\n",
    "        params       = model.parameters(),\n",
    "        lr           = ps.lr,\n",
    "        weight_decay = ps.weight_decay\n",
    "    ),\n",
    "    callbacks   = [\n",
    "        Validation(\n",
    "            data_loader=DataLoader(val_set, ps.batch_size, num_workers=ps.num_workers),\n",
    "            metrics = {\n",
    "                'val_loss': lambda y_pred, y_true: BCELoss()(y_pred, y_true).item(),\n",
    "                'val_auc' : lambda y_pred, y_true: roc_auc_score(y_true.cpu().numpy(), y_pred.cpu().numpy())\n",
    "            },\n",
    "            each_n_epochs=1\n",
    "        ),\n",
    "        Logger(['time', 'epoch', 'train_loss', 'val_loss', 'val_auc', 'patience', 'lr']),\n",
    "        ReduceLROnPlateau(metric='val_auc', mode='max', factor=ps.lr_factor, patience=ps.lr_patience),\n",
    "        EarlyStop(metric='val_auc', mode='max', patience=3)\n",
    "    ]\n",
    ")"
   ]
  },
  {
   "cell_type": "code",
   "execution_count": null,
   "id": "7cadffb4-bb3b-45db-9a4b-e649620b94b2",
   "metadata": {},
   "outputs": [],
   "source": []
  }
 ],
 "metadata": {
  "kernelspec": {
   "display_name": "Python 3 (ipykernel)",
   "language": "python",
   "name": "python3"
  },
  "language_info": {
   "codemirror_mode": {
    "name": "ipython",
    "version": 3
   },
   "file_extension": ".py",
   "mimetype": "text/x-python",
   "name": "python",
   "nbconvert_exporter": "python",
   "pygments_lexer": "ipython3",
   "version": "3.9.7"
  },
  "widgets": {
   "application/vnd.jupyter.widget-state+json": {
    "state": {},
    "version_major": 2,
    "version_minor": 0
   }
  }
 },
 "nbformat": 4,
 "nbformat_minor": 5
}
